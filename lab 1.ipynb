{
 "cells": [
  {
   "cell_type": "markdown",
   "metadata": {},
   "source": [
    "+ Test code"
   ]
  },
  {
   "cell_type": "code",
   "execution_count": 2,
   "metadata": {},
   "outputs": [
    {
     "name": "stdout",
     "output_type": "stream",
     "text": [
      "Hello World!\n"
     ]
    }
   ],
   "source": [
    "print(\"Hello World!\")"
   ]
  },
  {
   "cell_type": "markdown",
   "metadata": {},
   "source": [
    "+ Python number"
   ]
  },
  {
   "cell_type": "code",
   "execution_count": 3,
   "metadata": {},
   "outputs": [
    {
     "name": "stdout",
     "output_type": "stream",
     "text": [
      "<class 'int'>\n",
      "<class 'float'>\n",
      "<class 'complex'>\n"
     ]
    }
   ],
   "source": [
    "x = 1\n",
    "y = 2.8\n",
    "z = 1j\n",
    "\n",
    "print(type(x))\n",
    "print(type(y))\n",
    "print(type(z))\n"
   ]
  },
  {
   "cell_type": "markdown",
   "metadata": {},
   "source": [
    "+ Python Data Type"
   ]
  },
  {
   "cell_type": "code",
   "execution_count": 4,
   "metadata": {},
   "outputs": [
    {
     "data": {
      "text/plain": [
       "25"
      ]
     },
     "execution_count": 4,
     "metadata": {},
     "output_type": "execute_result"
    }
   ],
   "source": [
    "# int data type\n",
    "a=12\n",
    "b=13\n",
    "c=a+b\n",
    "c"
   ]
  },
  {
   "cell_type": "code",
   "execution_count": 5,
   "metadata": {},
   "outputs": [
    {
     "data": {
      "text/plain": [
       "26.0"
      ]
     },
     "execution_count": 5,
     "metadata": {},
     "output_type": "execute_result"
    }
   ],
   "source": [
    "# float data type\n",
    "a=12.5\n",
    "b=13.5\n",
    "c=a+b\n",
    "c"
   ]
  },
  {
   "cell_type": "code",
   "execution_count": 25,
   "metadata": {},
   "outputs": [
    {
     "name": "stdout",
     "output_type": "stream",
     "text": [
      "muna\n",
      "=============\n",
      "Lorem ipsum dolor sit amet,\n",
      "consectetur adipiscing elit,\n",
      "sed do eiusmod tempor incididunt\n",
      "ut labore et dolore magna aliqua.\n",
      "=============\n",
      "23\n",
      "=============\n"
     ]
    }
   ],
   "source": [
    "# print string \n",
    "massage = \"muna\"\n",
    "print(massage)\n",
    "\n",
    "print(\"=============\")\n",
    "\n",
    "#Multiline Strings\n",
    "a = '''Lorem ipsum dolor sit amet,\n",
    "consectetur adipiscing elit,\n",
    "sed do eiusmod tempor incididunt\n",
    "ut labore et dolore magna aliqua.'''\n",
    "print(a)\n",
    "\n",
    "print(\"=============\")\n",
    "\n",
    "age=23\n",
    "print(age)\n",
    "\n",
    "print(\"=============\")"
   ]
  },
  {
   "cell_type": "markdown",
   "metadata": {},
   "source": [
    "+ Strings are Arrays"
   ]
  },
  {
   "cell_type": "code",
   "execution_count": 18,
   "metadata": {},
   "outputs": [
    {
     "name": "stdout",
     "output_type": "stream",
     "text": [
      "s\n",
      "==========\n",
      "11\n",
      "==========\n",
      "NUSRAT MUNA\n",
      "==========\n",
      "Nusrat Jahan\n",
      "==========\n"
     ]
    }
   ],
   "source": [
    "# characters position\n",
    "\n",
    "a=\"Nusrat Muna\"\n",
    "print(a[2])\n",
    "\n",
    "print(\"==========\")\n",
    "\n",
    "# length of a string\n",
    "print(len(a))\n",
    "\n",
    "print(\"==========\")\n",
    "\n",
    "# string in upper case\n",
    "print(a.upper())\n",
    "\n",
    "print(\"==========\")\n",
    "\n",
    "#  replaces a string with another string\n",
    "print(a.replace(\"Muna\", \"Jahan\"))\n",
    "\n",
    "print(\"==========\")\n"
   ]
  },
  {
   "cell_type": "markdown",
   "metadata": {},
   "source": [
    "+ List"
   ]
  },
  {
   "cell_type": "code",
   "execution_count": 20,
   "metadata": {},
   "outputs": [
    {
     "name": "stdout",
     "output_type": "stream",
     "text": [
      "['apple', 'banana', 'cherry']\n",
      "========\n",
      "apple\n",
      "banana\n",
      "cherry\n",
      "========\n",
      "4.7\n",
      "========\n",
      "[3.5, 4.7, 3.0]\n",
      "========\n",
      "3\n"
     ]
    }
   ],
   "source": [
    "# Create a List:\n",
    "thislist = [\"apple\", \"banana\", \"cherry\"]\n",
    "print(thislist)\n",
    "\n",
    "print(\"========\")\n",
    "\n",
    "# Print all items in the list, one by one\n",
    "\n",
    "listis = [\"apple\", \"banana\", \"cherry\"]\n",
    "for x in listis:\n",
    "    print(x)\n",
    "    \n",
    "print(\"========\")\n",
    "\n",
    "listofcgpa = [3.5,4.7,3.9]\n",
    "\n",
    "print(listofcgpa[1])\n",
    "\n",
    "print(\"========\")\n",
    "\n",
    "listofcgpa[2]=3.0\n",
    "print(listofcgpa)\n",
    "\n",
    "print(\"========\")\n",
    "\n",
    "print(len(listofcgpa))"
   ]
  },
  {
   "cell_type": "markdown",
   "metadata": {},
   "source": [
    "+ If.....Else condition"
   ]
  },
  {
   "cell_type": "code",
   "execution_count": 22,
   "metadata": {},
   "outputs": [
    {
     "name": "stdout",
     "output_type": "stream",
     "text": [
      "A\n"
     ]
    }
   ],
   "source": [
    "# gread system\n",
    "\n",
    "def getgread(marks):\n",
    "    if(marks>=80):\n",
    "        return \"A+\"\n",
    "    elif(marks>=70 and marks <=79):\n",
    "        return \"A\"\n",
    "    elif(marks>=60 and marks <=69):\n",
    "        return \"B\"\n",
    "    elif(marks>=50 and marks <=59):\n",
    "        return \"C\"\n",
    "    elif(marks>=40 and marks <=49):\n",
    "        return \"D\"\n",
    "    else:\n",
    "        return \"fail\"\n",
    "print(getgread(75))"
   ]
  },
  {
   "cell_type": "markdown",
   "metadata": {},
   "source": [
    "+ Iteration"
   ]
  },
  {
   "cell_type": "code",
   "execution_count": 23,
   "metadata": {},
   "outputs": [
    {
     "name": "stdout",
     "output_type": "stream",
     "text": [
      "1\n",
      "3\n",
      "5\n",
      "7\n",
      "9\n"
     ]
    }
   ],
   "source": [
    "#number = 1\n",
    "#while number<10:\n",
    "    #print(number)\n",
    "   # number+=1\n",
    "    \n",
    "    \n",
    "#for x in range(6):\n",
    "   # print(x)\n",
    "\n",
    "for x in range(1,10,2):\n",
    "    print(x)"
   ]
  },
  {
   "cell_type": "markdown",
   "metadata": {},
   "source": [
    "+ Function"
   ]
  },
  {
   "cell_type": "code",
   "execution_count": 27,
   "metadata": {},
   "outputs": [
    {
     "name": "stdout",
     "output_type": "stream",
     "text": [
      "6.2832\n"
     ]
    }
   ],
   "source": [
    "def makedouble(x):\n",
    "    return 2*x;\n",
    "print(makedouble(3.1416))\n",
    "\n"
   ]
  },
  {
   "cell_type": "code",
   "execution_count": null,
   "metadata": {},
   "outputs": [],
   "source": []
  },
  {
   "cell_type": "code",
   "execution_count": null,
   "metadata": {},
   "outputs": [],
   "source": []
  }
 ],
 "metadata": {
  "kernelspec": {
   "display_name": "Python 3",
   "language": "python",
   "name": "python3"
  },
  "language_info": {
   "codemirror_mode": {
    "name": "ipython",
    "version": 3
   },
   "file_extension": ".py",
   "mimetype": "text/x-python",
   "name": "python",
   "nbconvert_exporter": "python",
   "pygments_lexer": "ipython3",
   "version": "3.7.3"
  }
 },
 "nbformat": 4,
 "nbformat_minor": 2
}
